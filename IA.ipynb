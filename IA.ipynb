{
 "cells": [
  {
   "cell_type": "code",
   "execution_count": 29,
   "metadata": {},
   "outputs": [],
   "source": [
    "import pandas as pd # conda install pandas\n",
    "import numpy as np\n",
    "import matplotlib.pyplot as plt # conda install matplotlib\n",
    "import seaborn as sns # conda install seaborn\n",
    "from sklearn.model_selection import train_test_split # conda install scikit-learn\n",
    "from sklearn.compose import ColumnTransformer\n",
    "from sklearn.preprocessing import FunctionTransformer\n",
    "from sklearn.pipeline import Pipeline\n",
    "from sklearn.preprocessing import StandardScaler"
   ]
  },
  {
   "cell_type": "markdown",
   "metadata": {},
   "source": [
    "# Carga de datos y vista general"
   ]
  },
  {
   "cell_type": "code",
   "execution_count": 31,
   "metadata": {},
   "outputs": [],
   "source": [
    "df = pd.read_csv(\"business/2024/6/12/data-2024-06-12.csv\")"
   ]
  },
  {
   "cell_type": "code",
   "execution_count": 32,
   "metadata": {},
   "outputs": [
    {
     "data": {
      "text/html": [
       "<div>\n",
       "<style scoped>\n",
       "    .dataframe tbody tr th:only-of-type {\n",
       "        vertical-align: middle;\n",
       "    }\n",
       "\n",
       "    .dataframe tbody tr th {\n",
       "        vertical-align: top;\n",
       "    }\n",
       "\n",
       "    .dataframe thead th {\n",
       "        text-align: right;\n",
       "    }\n",
       "</style>\n",
       "<table border=\"1\" class=\"dataframe\">\n",
       "  <thead>\n",
       "    <tr style=\"text-align: right;\">\n",
       "      <th></th>\n",
       "      <th>id</th>\n",
       "      <th>log_price</th>\n",
       "      <th>property_type</th>\n",
       "      <th>room_type</th>\n",
       "      <th>amenities</th>\n",
       "      <th>accommodates</th>\n",
       "      <th>bathrooms</th>\n",
       "      <th>bed_type</th>\n",
       "      <th>cancellation_policy</th>\n",
       "      <th>cleaning_fee</th>\n",
       "      <th>...</th>\n",
       "      <th>latitude</th>\n",
       "      <th>longitude</th>\n",
       "      <th>neighbourhood</th>\n",
       "      <th>number_of_reviews</th>\n",
       "      <th>review_scores_rating</th>\n",
       "      <th>zipcode</th>\n",
       "      <th>bedrooms</th>\n",
       "      <th>beds</th>\n",
       "      <th>price</th>\n",
       "      <th>processed_date</th>\n",
       "    </tr>\n",
       "  </thead>\n",
       "  <tbody>\n",
       "    <tr>\n",
       "      <th>0</th>\n",
       "      <td>6901257</td>\n",
       "      <td>5.010635</td>\n",
       "      <td>Apartment</td>\n",
       "      <td>Entire home/apt</td>\n",
       "      <td>{Wireless Internet, Air conditioning, Kitchen,...</td>\n",
       "      <td>3</td>\n",
       "      <td>1.0</td>\n",
       "      <td>Real Bed</td>\n",
       "      <td>strict</td>\n",
       "      <td>True</td>\n",
       "      <td>...</td>\n",
       "      <td>40.696524</td>\n",
       "      <td>-73.991617</td>\n",
       "      <td>Brooklyn Heights</td>\n",
       "      <td>2</td>\n",
       "      <td>100.0</td>\n",
       "      <td>11201</td>\n",
       "      <td>1.0</td>\n",
       "      <td>1.0</td>\n",
       "      <td>150</td>\n",
       "      <td>2024-06-12</td>\n",
       "    </tr>\n",
       "    <tr>\n",
       "      <th>1</th>\n",
       "      <td>6304928</td>\n",
       "      <td>5.129899</td>\n",
       "      <td>Apartment</td>\n",
       "      <td>Entire home/apt</td>\n",
       "      <td>{Wireless Internet, Air conditioning, Kitchen,...</td>\n",
       "      <td>7</td>\n",
       "      <td>1.0</td>\n",
       "      <td>Real Bed</td>\n",
       "      <td>strict</td>\n",
       "      <td>True</td>\n",
       "      <td>...</td>\n",
       "      <td>40.766115</td>\n",
       "      <td>-73.989040</td>\n",
       "      <td>Hell's Kitchen</td>\n",
       "      <td>6</td>\n",
       "      <td>93.0</td>\n",
       "      <td>10019</td>\n",
       "      <td>3.0</td>\n",
       "      <td>3.0</td>\n",
       "      <td>169</td>\n",
       "      <td>2024-06-12</td>\n",
       "    </tr>\n",
       "    <tr>\n",
       "      <th>2</th>\n",
       "      <td>13418779</td>\n",
       "      <td>6.620073</td>\n",
       "      <td>House</td>\n",
       "      <td>Entire home/apt</td>\n",
       "      <td>{TV, Cable TV, Internet, Wireless Internet, Ki...</td>\n",
       "      <td>4</td>\n",
       "      <td>1.0</td>\n",
       "      <td>Real Bed</td>\n",
       "      <td>flexible</td>\n",
       "      <td>True</td>\n",
       "      <td>...</td>\n",
       "      <td>37.772004</td>\n",
       "      <td>-122.431619</td>\n",
       "      <td>Lower Haight</td>\n",
       "      <td>0</td>\n",
       "      <td>NaN</td>\n",
       "      <td>94117</td>\n",
       "      <td>2.0</td>\n",
       "      <td>2.0</td>\n",
       "      <td>750</td>\n",
       "      <td>2024-06-12</td>\n",
       "    </tr>\n",
       "    <tr>\n",
       "      <th>3</th>\n",
       "      <td>12422935</td>\n",
       "      <td>4.442651</td>\n",
       "      <td>Apartment</td>\n",
       "      <td>Private room</td>\n",
       "      <td>{TV, Wireless Internet, Heating, Smoke detecto...</td>\n",
       "      <td>2</td>\n",
       "      <td>1.0</td>\n",
       "      <td>Real Bed</td>\n",
       "      <td>strict</td>\n",
       "      <td>True</td>\n",
       "      <td>...</td>\n",
       "      <td>37.753164</td>\n",
       "      <td>-122.429526</td>\n",
       "      <td>Noe Valley</td>\n",
       "      <td>3</td>\n",
       "      <td>100.0</td>\n",
       "      <td>94131</td>\n",
       "      <td>1.0</td>\n",
       "      <td>1.0</td>\n",
       "      <td>85</td>\n",
       "      <td>2024-06-12</td>\n",
       "    </tr>\n",
       "    <tr>\n",
       "      <th>4</th>\n",
       "      <td>11825529</td>\n",
       "      <td>4.418841</td>\n",
       "      <td>Apartment</td>\n",
       "      <td>Entire home/apt</td>\n",
       "      <td>{TV, Internet, Wireless Internet, Air conditio...</td>\n",
       "      <td>3</td>\n",
       "      <td>1.0</td>\n",
       "      <td>Real Bed</td>\n",
       "      <td>moderate</td>\n",
       "      <td>True</td>\n",
       "      <td>...</td>\n",
       "      <td>33.980454</td>\n",
       "      <td>-118.462821</td>\n",
       "      <td>NaN</td>\n",
       "      <td>15</td>\n",
       "      <td>97.0</td>\n",
       "      <td>90292</td>\n",
       "      <td>1.0</td>\n",
       "      <td>1.0</td>\n",
       "      <td>82</td>\n",
       "      <td>2024-06-12</td>\n",
       "    </tr>\n",
       "  </tbody>\n",
       "</table>\n",
       "<p>5 rows × 28 columns</p>\n",
       "</div>"
      ],
      "text/plain": [
       "         id  log_price property_type        room_type  \\\n",
       "0   6901257   5.010635     Apartment  Entire home/apt   \n",
       "1   6304928   5.129899     Apartment  Entire home/apt   \n",
       "2  13418779   6.620073         House  Entire home/apt   \n",
       "3  12422935   4.442651     Apartment     Private room   \n",
       "4  11825529   4.418841     Apartment  Entire home/apt   \n",
       "\n",
       "                                           amenities  accommodates  bathrooms  \\\n",
       "0  {Wireless Internet, Air conditioning, Kitchen,...             3        1.0   \n",
       "1  {Wireless Internet, Air conditioning, Kitchen,...             7        1.0   \n",
       "2  {TV, Cable TV, Internet, Wireless Internet, Ki...             4        1.0   \n",
       "3  {TV, Wireless Internet, Heating, Smoke detecto...             2        1.0   \n",
       "4  {TV, Internet, Wireless Internet, Air conditio...             3        1.0   \n",
       "\n",
       "   bed_type cancellation_policy  cleaning_fee  ...   latitude   longitude  \\\n",
       "0  Real Bed              strict          True  ...  40.696524  -73.991617   \n",
       "1  Real Bed              strict          True  ...  40.766115  -73.989040   \n",
       "2  Real Bed            flexible          True  ...  37.772004 -122.431619   \n",
       "3  Real Bed              strict          True  ...  37.753164 -122.429526   \n",
       "4  Real Bed            moderate          True  ...  33.980454 -118.462821   \n",
       "\n",
       "      neighbourhood number_of_reviews review_scores_rating zipcode  bedrooms  \\\n",
       "0  Brooklyn Heights                 2                100.0   11201       1.0   \n",
       "1    Hell's Kitchen                 6                 93.0   10019       3.0   \n",
       "2      Lower Haight                 0                  NaN   94117       2.0   \n",
       "3        Noe Valley                 3                100.0   94131       1.0   \n",
       "4               NaN                15                 97.0   90292       1.0   \n",
       "\n",
       "  beds  price  processed_date  \n",
       "0  1.0    150      2024-06-12  \n",
       "1  3.0    169      2024-06-12  \n",
       "2  2.0    750      2024-06-12  \n",
       "3  1.0     85      2024-06-12  \n",
       "4  1.0     82      2024-06-12  \n",
       "\n",
       "[5 rows x 28 columns]"
      ]
     },
     "execution_count": 32,
     "metadata": {},
     "output_type": "execute_result"
    }
   ],
   "source": [
    "df.head()"
   ]
  },
  {
   "cell_type": "markdown",
   "metadata": {},
   "source": [
    "## Creación de columnas correspondientes a *amenities*"
   ]
  },
  {
   "cell_type": "code",
   "execution_count": 33,
   "metadata": {},
   "outputs": [
    {
     "data": {
      "text/plain": [
       "['24-hour check-in',\n",
       " 'Accessible-height bed',\n",
       " 'Accessible-height toilet',\n",
       " 'Air conditioning',\n",
       " 'Air purifier',\n",
       " 'BBQ grill',\n",
       " 'Baby bath',\n",
       " 'Baby monitor',\n",
       " 'Babysitter recommendations',\n",
       " 'Bath towel',\n",
       " 'Bathtub',\n",
       " 'Bathtub with shower chair',\n",
       " 'Beach essentials',\n",
       " 'Beachfront',\n",
       " 'Bed linens',\n",
       " 'Body soap',\n",
       " 'Breakfast',\n",
       " 'Buzzer/wireless intercom',\n",
       " 'Cable TV',\n",
       " 'Carbon monoxide detector',\n",
       " 'Cat(s)',\n",
       " 'Changing table',\n",
       " 'Children’s books and toys',\n",
       " 'Children’s dinnerware',\n",
       " 'Cleaning before checkout',\n",
       " 'Coffee maker',\n",
       " 'Cooking basics',\n",
       " 'Crib',\n",
       " 'Disabled parking spot',\n",
       " 'Dishes and silverware',\n",
       " 'Dishwasher',\n",
       " 'Dog(s)',\n",
       " 'Doorman',\n",
       " 'Doorman Entry',\n",
       " 'Dryer',\n",
       " 'EV charger',\n",
       " 'Elevator',\n",
       " 'Elevator in building',\n",
       " 'Essentials',\n",
       " 'Ethernet connection',\n",
       " 'Extra pillows and blankets',\n",
       " 'Family/kid friendly',\n",
       " 'Fire extinguisher',\n",
       " 'Fireplace guards',\n",
       " 'Firm matress',\n",
       " 'Firm mattress',\n",
       " 'First aid kit',\n",
       " 'Fixed grab bars for shower & toilet',\n",
       " 'Flat',\n",
       " 'Flat smooth pathway to front door',\n",
       " 'Free parking on premises',\n",
       " 'Free parking on street',\n",
       " 'Game console',\n",
       " 'Garden or backyard',\n",
       " 'Ground floor access',\n",
       " 'Gym',\n",
       " 'Hair dryer',\n",
       " 'Hand or paper towel',\n",
       " 'Hand soap',\n",
       " 'Handheld shower head',\n",
       " 'Hangers',\n",
       " 'Heating',\n",
       " 'High chair',\n",
       " 'Host greets you',\n",
       " 'Hot tub',\n",
       " 'Hot water',\n",
       " 'Hot water kettle',\n",
       " 'Indoor fireplace',\n",
       " 'Internet',\n",
       " 'Iron',\n",
       " 'Keypad',\n",
       " 'Kitchen',\n",
       " 'Lake access',\n",
       " 'Laptop friendly workspace',\n",
       " 'Lock on bedroom door',\n",
       " 'Lockbox',\n",
       " 'Long term stays allowed',\n",
       " 'Luggage dropoff allowed',\n",
       " 'Microwave',\n",
       " 'Other',\n",
       " 'Other pet(s)',\n",
       " 'Outlet covers',\n",
       " 'Oven',\n",
       " 'Pack ’n Play/travel crib',\n",
       " 'Paid parking off premises',\n",
       " 'Path to entrance lit at night',\n",
       " 'Patio or balcony',\n",
       " 'Pets allowed',\n",
       " 'Pets live on this property',\n",
       " 'Pocket wifi',\n",
       " 'Pool',\n",
       " 'Private bathroom',\n",
       " 'Private entrance',\n",
       " 'Private living room',\n",
       " 'Refrigerator',\n",
       " 'Roll-in shower with chair',\n",
       " 'Room-darkening shades',\n",
       " 'Safety card',\n",
       " 'Self Check-In',\n",
       " 'Shampoo',\n",
       " 'Single level home',\n",
       " 'Ski in/Ski out',\n",
       " 'Smart lock',\n",
       " 'Smartlock',\n",
       " 'Smoke detector',\n",
       " 'Smoking allowed',\n",
       " 'Stair gates',\n",
       " 'Step-free access',\n",
       " 'Stove',\n",
       " 'Suitable for events',\n",
       " 'TV',\n",
       " 'Table corner guards',\n",
       " 'Toilet paper',\n",
       " 'Washer',\n",
       " 'Washer / Dryer',\n",
       " 'Waterfront',\n",
       " 'Well-lit path to entrance',\n",
       " 'Wheelchair accessible',\n",
       " 'Wide clearance to bed',\n",
       " 'Wide clearance to shower & toilet',\n",
       " 'Wide clearance to shower and toilet',\n",
       " 'Wide doorway',\n",
       " 'Wide entryway',\n",
       " 'Wide hallway clearance',\n",
       " 'Window guards',\n",
       " 'Wireless Internet',\n",
       " 'smooth pathway to front door',\n",
       " 'translation missing: en.hosting_amenity_49',\n",
       " 'translation missing: en.hosting_amenity_50']"
      ]
     },
     "execution_count": 33,
     "metadata": {},
     "output_type": "execute_result"
    }
   ],
   "source": [
    "amenities = []\n",
    "def listar(x,amenities):\n",
    "    amenities += (x.replace(\"{\",\"\").replace(\"}\",\"\").replace(\"\\\"\",\"\").split(\",\"))\n",
    "    return x\n",
    "df.amenities.apply(lambda x: listar(x, amenities))\n",
    "amenities = [amenity[1:] if len(amenity) and amenity[0] == \" \" else amenity for amenity in amenities]\n",
    "amenities = list(set(amenities))\n",
    "if \"\" in amenities: amenities.remove(\"\")\n",
    "sorted(amenities)"
   ]
  },
  {
   "cell_type": "code",
   "execution_count": 8,
   "metadata": {},
   "outputs": [],
   "source": [
    "df = pd.concat([df, pd.DataFrame(columns=amenities)], axis=1)"
   ]
  },
  {
   "cell_type": "code",
   "execution_count": 9,
   "metadata": {},
   "outputs": [],
   "source": [
    "for column in amenities:\n",
    "    df[column] = df.amenities.apply(lambda x: 1 if column in x else 0)\n",
    "df.drop([\"amenities\"], axis=1, inplace=True)"
   ]
  },
  {
   "cell_type": "code",
   "execution_count": 10,
   "metadata": {},
   "outputs": [
    {
     "data": {
      "text/html": [
       "<div>\n",
       "<style scoped>\n",
       "    .dataframe tbody tr th:only-of-type {\n",
       "        vertical-align: middle;\n",
       "    }\n",
       "\n",
       "    .dataframe tbody tr th {\n",
       "        vertical-align: top;\n",
       "    }\n",
       "\n",
       "    .dataframe thead th {\n",
       "        text-align: right;\n",
       "    }\n",
       "</style>\n",
       "<table border=\"1\" class=\"dataframe\">\n",
       "  <thead>\n",
       "    <tr style=\"text-align: right;\">\n",
       "      <th></th>\n",
       "      <th>id</th>\n",
       "      <th>log_price</th>\n",
       "      <th>property_type</th>\n",
       "      <th>room_type</th>\n",
       "      <th>accommodates</th>\n",
       "      <th>bathrooms</th>\n",
       "      <th>bed_type</th>\n",
       "      <th>cancellation_policy</th>\n",
       "      <th>cleaning_fee</th>\n",
       "      <th>city</th>\n",
       "      <th>...</th>\n",
       "      <th>Window guards</th>\n",
       "      <th>Coffee maker</th>\n",
       "      <th>Babysitter recommendations</th>\n",
       "      <th>Bathtub with shower chair</th>\n",
       "      <th>Heating</th>\n",
       "      <th>Cable TV</th>\n",
       "      <th>Pack ’n Play/travel crib</th>\n",
       "      <th>Disabled parking spot</th>\n",
       "      <th>Changing table</th>\n",
       "      <th>Extra pillows and blankets</th>\n",
       "    </tr>\n",
       "  </thead>\n",
       "  <tbody>\n",
       "    <tr>\n",
       "      <th>24157</th>\n",
       "      <td>15095869</td>\n",
       "      <td>5.521461</td>\n",
       "      <td>House</td>\n",
       "      <td>Private room</td>\n",
       "      <td>1</td>\n",
       "      <td>1.0</td>\n",
       "      <td>Real Bed</td>\n",
       "      <td>strict</td>\n",
       "      <td>True</td>\n",
       "      <td>SF</td>\n",
       "      <td>...</td>\n",
       "      <td>0</td>\n",
       "      <td>0</td>\n",
       "      <td>0</td>\n",
       "      <td>0</td>\n",
       "      <td>1</td>\n",
       "      <td>1</td>\n",
       "      <td>0</td>\n",
       "      <td>0</td>\n",
       "      <td>0</td>\n",
       "      <td>0</td>\n",
       "    </tr>\n",
       "    <tr>\n",
       "      <th>17118</th>\n",
       "      <td>10090585</td>\n",
       "      <td>5.220356</td>\n",
       "      <td>Apartment</td>\n",
       "      <td>Entire home/apt</td>\n",
       "      <td>2</td>\n",
       "      <td>1.0</td>\n",
       "      <td>Real Bed</td>\n",
       "      <td>moderate</td>\n",
       "      <td>True</td>\n",
       "      <td>Boston</td>\n",
       "      <td>...</td>\n",
       "      <td>0</td>\n",
       "      <td>0</td>\n",
       "      <td>0</td>\n",
       "      <td>0</td>\n",
       "      <td>1</td>\n",
       "      <td>0</td>\n",
       "      <td>0</td>\n",
       "      <td>0</td>\n",
       "      <td>0</td>\n",
       "      <td>0</td>\n",
       "    </tr>\n",
       "    <tr>\n",
       "      <th>29397</th>\n",
       "      <td>9523431</td>\n",
       "      <td>5.393628</td>\n",
       "      <td>Apartment</td>\n",
       "      <td>Entire home/apt</td>\n",
       "      <td>5</td>\n",
       "      <td>1.0</td>\n",
       "      <td>Real Bed</td>\n",
       "      <td>moderate</td>\n",
       "      <td>True</td>\n",
       "      <td>SF</td>\n",
       "      <td>...</td>\n",
       "      <td>0</td>\n",
       "      <td>0</td>\n",
       "      <td>0</td>\n",
       "      <td>0</td>\n",
       "      <td>1</td>\n",
       "      <td>1</td>\n",
       "      <td>0</td>\n",
       "      <td>0</td>\n",
       "      <td>0</td>\n",
       "      <td>0</td>\n",
       "    </tr>\n",
       "    <tr>\n",
       "      <th>11995</th>\n",
       "      <td>14768657</td>\n",
       "      <td>5.241747</td>\n",
       "      <td>Apartment</td>\n",
       "      <td>Entire home/apt</td>\n",
       "      <td>2</td>\n",
       "      <td>1.0</td>\n",
       "      <td>Real Bed</td>\n",
       "      <td>moderate</td>\n",
       "      <td>True</td>\n",
       "      <td>NYC</td>\n",
       "      <td>...</td>\n",
       "      <td>0</td>\n",
       "      <td>0</td>\n",
       "      <td>0</td>\n",
       "      <td>0</td>\n",
       "      <td>1</td>\n",
       "      <td>1</td>\n",
       "      <td>0</td>\n",
       "      <td>0</td>\n",
       "      <td>0</td>\n",
       "      <td>0</td>\n",
       "    </tr>\n",
       "    <tr>\n",
       "      <th>16921</th>\n",
       "      <td>6196265</td>\n",
       "      <td>4.317488</td>\n",
       "      <td>Apartment</td>\n",
       "      <td>Private room</td>\n",
       "      <td>2</td>\n",
       "      <td>1.0</td>\n",
       "      <td>Real Bed</td>\n",
       "      <td>moderate</td>\n",
       "      <td>True</td>\n",
       "      <td>NYC</td>\n",
       "      <td>...</td>\n",
       "      <td>0</td>\n",
       "      <td>0</td>\n",
       "      <td>0</td>\n",
       "      <td>0</td>\n",
       "      <td>1</td>\n",
       "      <td>0</td>\n",
       "      <td>0</td>\n",
       "      <td>0</td>\n",
       "      <td>0</td>\n",
       "      <td>0</td>\n",
       "    </tr>\n",
       "  </tbody>\n",
       "</table>\n",
       "<p>5 rows × 156 columns</p>\n",
       "</div>"
      ],
      "text/plain": [
       "             id  log_price property_type        room_type  accommodates  \\\n",
       "24157  15095869   5.521461         House     Private room             1   \n",
       "17118  10090585   5.220356     Apartment  Entire home/apt             2   \n",
       "29397   9523431   5.393628     Apartment  Entire home/apt             5   \n",
       "11995  14768657   5.241747     Apartment  Entire home/apt             2   \n",
       "16921   6196265   4.317488     Apartment     Private room             2   \n",
       "\n",
       "       bathrooms  bed_type cancellation_policy  cleaning_fee    city  ...  \\\n",
       "24157        1.0  Real Bed              strict          True      SF  ...   \n",
       "17118        1.0  Real Bed            moderate          True  Boston  ...   \n",
       "29397        1.0  Real Bed            moderate          True      SF  ...   \n",
       "11995        1.0  Real Bed            moderate          True     NYC  ...   \n",
       "16921        1.0  Real Bed            moderate          True     NYC  ...   \n",
       "\n",
       "      Window guards Coffee maker Babysitter recommendations  \\\n",
       "24157             0            0                          0   \n",
       "17118             0            0                          0   \n",
       "29397             0            0                          0   \n",
       "11995             0            0                          0   \n",
       "16921             0            0                          0   \n",
       "\n",
       "      Bathtub with shower chair Heating  Cable TV Pack ’n Play/travel crib  \\\n",
       "24157                         0       1         1                        0   \n",
       "17118                         0       1         0                        0   \n",
       "29397                         0       1         1                        0   \n",
       "11995                         0       1         1                        0   \n",
       "16921                         0       1         0                        0   \n",
       "\n",
       "       Disabled parking spot  Changing table Extra pillows and blankets  \n",
       "24157                      0               0                          0  \n",
       "17118                      0               0                          0  \n",
       "29397                      0               0                          0  \n",
       "11995                      0               0                          0  \n",
       "16921                      0               0                          0  \n",
       "\n",
       "[5 rows x 156 columns]"
      ]
     },
     "execution_count": 10,
     "metadata": {},
     "output_type": "execute_result"
    }
   ],
   "source": [
    "df.sample(5)"
   ]
  },
  {
   "cell_type": "markdown",
   "metadata": {},
   "source": [
    "Hay columnas de amenities que hacen referencia a lo mismo:\n",
    "* *Firm matress* y *Firm mattress*,\n",
    "* *Smart lock* y *Smartlock*,\n",
    "* *Wide clearance to shower & toilet* y *Wide clearance to shower and toilet*.\n",
    "Se unifican dichas columnas."
   ]
  },
  {
   "cell_type": "code",
   "execution_count": 11,
   "metadata": {},
   "outputs": [],
   "source": [
    "df[\"Firm mattress\"] = df[\"Firm mattress\"] + df[\"Firm matress\"]\n",
    "df[\"Firm mattress\"] = df[\"Firm mattress\"].apply(lambda x: 1 if x > 0 else 0)\n",
    "df[\"Smart lock\"] = df[\"Smart lock\"] + df[\"Smartlock\"]\n",
    "df[\"Smart lock\"] = df[\"Smart lock\"].apply(lambda x: 1 if x > 0 else 0)\n",
    "df[\"Wide clearance to shower and toilet\"] = df[\"Wide clearance to shower and toilet\"] + df[\"Wide clearance to shower & toilet\"]\n",
    "df[\"Wide clearance to shower and toilet\"] = df[\"Wide clearance to shower and toilet\"].apply(lambda x: 1 if x > 0 else 0)\n",
    "df.drop([\"Firm matress\", \"Smartlock\", \"Wide clearance to shower & toilet\"], axis=1, inplace=True)"
   ]
  },
  {
   "cell_type": "markdown",
   "metadata": {},
   "source": [
    "# Creación de los conjuntos train y test"
   ]
  },
  {
   "cell_type": "code",
   "execution_count": 12,
   "metadata": {},
   "outputs": [],
   "source": [
    "train, test = train_test_split(df, test_size=0.2, random_state=0)"
   ]
  },
  {
   "cell_type": "code",
   "execution_count": 13,
   "metadata": {},
   "outputs": [
    {
     "name": "stdout",
     "output_type": "stream",
     "text": [
      "Tamaño del train set: (41873, 153).\n",
      "Tamaño del test set: (10469, 153).\n"
     ]
    }
   ],
   "source": [
    "print(f\"Tamaño del train set: {train.shape}.\")\n",
    "print(f\"Tamaño del test set: {test.shape}.\")"
   ]
  },
  {
   "cell_type": "markdown",
   "metadata": {},
   "source": [
    "# Limpieza de datos"
   ]
  },
  {
   "cell_type": "code",
   "execution_count": 16,
   "metadata": {},
   "outputs": [
    {
     "name": "stdout",
     "output_type": "stream",
     "text": [
      "Columnas numéricas y categóricas sin tener en cuenta las de amenities (son numéricas).\n",
      "Columnas numéricas: ['id', 'log_price', 'accommodates', 'bathrooms', 'latitude', 'longitude', 'number_of_reviews', 'review_scores_rating', 'zipcode', 'bedrooms', 'beds']\n",
      "Columnas categóricas: ['property_type', 'room_type', 'bed_type', 'cancellation_policy', 'cleaning_fee', 'city', 'first_review', 'host_has_profile_pic', 'host_identity_verified', 'host_response_rate', 'host_since', 'instant_bookable', 'last_review', 'neighbourhood']\n"
     ]
    }
   ],
   "source": [
    "print(\"Columnas numéricas y categóricas sin tener en cuenta las de amenities (son numéricas).\")\n",
    "print(f\"Columnas numéricas: {list(train.loc[:,:'beds'].select_dtypes(include=['number', 'datetime']).columns)}\")\n",
    "print(f\"Columnas categóricas: {list(train.loc[:,:'beds'].select_dtypes(exclude=['number','datetime']).columns)}\")"
   ]
  },
  {
   "cell_type": "markdown",
   "metadata": {},
   "source": [
    "Hay algunas columnas cuyo tipo no se corresponde. Se cambian los tipos:"
   ]
  },
  {
   "cell_type": "code",
   "execution_count": 17,
   "metadata": {},
   "outputs": [],
   "source": [
    "train[\"first_review\"] = pd.to_datetime(train[\"first_review\"])\n",
    "train[\"host_since\"] = pd.to_datetime(train[\"host_since\"])\n",
    "train[\"last_review\"] = pd.to_datetime(train[\"last_review\"])\n",
    "train[\"processed_date\"] = pd.to_datetime(train[\"processed_date\"])\n",
    "train[\"host_response_rate\"] = train[\"host_response_rate\"].apply(lambda x: float(x[:-1]) if type(x) == str else np.nan)\n",
    "train[\"zipcode\"] = train.zipcode.apply(lambda x: str(int(float(x))).zfill(5))\n",
    "test[\"first_review\"] = pd.to_datetime(test[\"first_review\"])\n",
    "test[\"host_since\"] = pd.to_datetime(test[\"host_since\"])\n",
    "test[\"last_review\"] = pd.to_datetime(test[\"last_review\"])\n",
    "test[\"processed_date\"] = pd.to_datetime(test[\"processed_date\"])\n",
    "test[\"host_response_rate\"] = test[\"host_response_rate\"].apply(lambda x: float(x[:-1]) if type(x) == str else np.nan)\n",
    "test[\"zipcode\"] = test.zipcode.apply(lambda x: str(int(float(x))).zfill(5))"
   ]
  },
  {
   "cell_type": "code",
   "execution_count": 18,
   "metadata": {},
   "outputs": [
    {
     "name": "stdout",
     "output_type": "stream",
     "text": [
      "Columnas numéricas y categóricas sin tener en cuenta las de amenities (son numéricas).\n",
      "Columnas numéricas: ['id', 'log_price', 'accommodates', 'bathrooms', 'first_review', 'host_response_rate', 'host_since', 'last_review', 'latitude', 'longitude', 'number_of_reviews', 'review_scores_rating', 'bedrooms', 'beds']\n",
      "Columnas categóricas: ['property_type', 'room_type', 'bed_type', 'cancellation_policy', 'cleaning_fee', 'city', 'host_has_profile_pic', 'host_identity_verified', 'instant_bookable', 'neighbourhood', 'zipcode']\n"
     ]
    }
   ],
   "source": [
    "print(\"Columnas numéricas y categóricas sin tener en cuenta las de amenities (son numéricas).\")\n",
    "columnas_numericas = list(train.loc[:,:\"beds\"].select_dtypes(include=[\"number\",\"datetime\"]).columns)\n",
    "columnas_categoricas = list(train.loc[:,:\"beds\"].select_dtypes(exclude=[\"number\",\"datetime\"]).columns)\n",
    "print(f\"Columnas numéricas: {columnas_numericas}\")\n",
    "print(f\"Columnas categóricas: {columnas_categoricas}\")"
   ]
  },
  {
   "cell_type": "markdown",
   "metadata": {},
   "source": [
    "## Tratamiento de nulos"
   ]
  },
  {
   "cell_type": "code",
   "execution_count": 19,
   "metadata": {},
   "outputs": [
    {
     "name": "stdout",
     "output_type": "stream",
     "text": [
      "Columnas con nulos en el train set: ['bathrooms', 'first_review', 'host_has_profile_pic', 'host_identity_verified', 'host_response_rate', 'host_since', 'last_review', 'neighbourhood', 'review_scores_rating', 'bedrooms', 'beds']\n",
      "Columnas con nulos en el test set: ['bathrooms', 'first_review', 'host_has_profile_pic', 'host_identity_verified', 'host_response_rate', 'host_since', 'last_review', 'neighbourhood', 'review_scores_rating', 'bedrooms', 'beds']\n"
     ]
    }
   ],
   "source": [
    "# Columnas con nulos:\n",
    "print(f\"Columnas con nulos en el train set: {train.columns[train.isna().any()].tolist()}\")\n",
    "print(f\"Columnas con nulos en el test set: {test.columns[test.isna().any()].tolist()}\")"
   ]
  },
  {
   "cell_type": "code",
   "execution_count": 20,
   "metadata": {},
   "outputs": [
    {
     "data": {
      "text/plain": [
       "bathrooms                    98\n",
       "first_review               9278\n",
       "host_has_profile_pic        111\n",
       "host_identity_verified      111\n",
       "host_response_rate        11846\n",
       "host_since                  111\n",
       "last_review                9258\n",
       "neighbourhood              3435\n",
       "review_scores_rating       9806\n",
       "bedrooms                     55\n",
       "beds                         70\n",
       "dtype: int64"
      ]
     },
     "execution_count": 20,
     "metadata": {},
     "output_type": "execute_result"
    }
   ],
   "source": [
    "# Cantidad de nulos por columna.\n",
    "train[train.columns[train.isna().any()]].isna().sum()"
   ]
  },
  {
   "cell_type": "code",
   "execution_count": 21,
   "metadata": {},
   "outputs": [
    {
     "data": {
      "image/png": "[encoded data removed]",
      "text/plain": [
       "<Figure size 640x480 with 2 Axes>"
      ]
     },
     "metadata": {},
     "output_type": "display_data"
    }
   ],
   "source": [
    "sns.heatmap(train[train.columns[train.isna().any()].tolist()].isna())\n",
    "plt.show()"
   ]
  },
  {
   "cell_type": "code",
   "execution_count": 22,
   "metadata": {},
   "outputs": [],
   "source": [
    "# Se imputan medianas y modas a las columnas en las que hay nulos:\n",
    "train[columnas_numericas] = train[columnas_numericas].fillna(train[columnas_numericas].median())\n",
    "test[columnas_numericas] = test[columnas_numericas].fillna(test[columnas_numericas].median())"
   ]
  },
  {
   "cell_type": "code",
   "execution_count": 23,
   "metadata": {},
   "outputs": [],
   "source": [
    "train[columnas_categoricas] = train[columnas_categoricas].fillna(train[columnas_categoricas].mode())\n",
    "test[columnas_categoricas] = test[columnas_categoricas].fillna(test[columnas_categoricas].mode())"
   ]
  },
  {
   "cell_type": "markdown",
   "metadata": {},
   "source": [
    "<mark>por alguna razón no he conseguido deshacerme de todos los nulos todavía</mark>"
   ]
  },
  {
   "cell_type": "code",
   "execution_count": 26,
   "metadata": {},
   "outputs": [
    {
     "data": {
      "text/plain": [
       "Series([], dtype: float64)"
      ]
     },
     "execution_count": 26,
     "metadata": {},
     "output_type": "execute_result"
    }
   ],
   "source": [
    "train[train.columns[train.isna().any()]].isna().sum()\n",
    "test[test.columns[test.isna().any()]].isna().sum()"
   ]
  },
  {
   "cell_type": "code",
   "execution_count": 25,
   "metadata": {},
   "outputs": [],
   "source": [
    "train = train.dropna()\n",
    "test = test.dropna()\n"
   ]
  },
  {
   "cell_type": "markdown",
   "metadata": {},
   "source": [
    "## Eliminacion de columnas"
   ]
  },
  {
   "cell_type": "code",
   "execution_count": null,
   "metadata": {},
   "outputs": [],
   "source": []
  },
  {
   "cell_type": "markdown",
   "metadata": {},
   "source": [
    "### Cosas a hacer (bastante a grandes rasgos, tampoco lo he mirado a fondo):\n",
    "* eliminar la columna id (identifica, no aporta nada)\n",
    "* one hot encoding *property_type*\n",
    "* one hot encoding *room_type*\n",
    "* eliminar la columna amenities (ya he creado las columnas correspondientes)\n",
    "* convertir a tipo entero bathrooms\n",
    "* one hot encoding a *bed_type*\n",
    "* one hot encoding a *cancellation_policy*\n",
    "* convertir a 0 (False) y 1 (True) *cleaning_fee*, *host_has_profile_pic*, *host_identity_verified*, *instant_bookable*\n",
    "* ¿convertir a entero *host_response_rate*? (??????)\n",
    "* *neighbourhood* -> son 600 valores posibles, hacerle un one hot encoding me parece una locura, yo la eliminaría\n",
    "* ¿convertir a enter *review_scores_rating*?\n",
    "* *zipcode* -> son 632 valores posibles, hacerle un one hot encoding me parece una locura, yo la eliminaría; si queremos hacer algo con esa columna, habría que *volver a* añadir los ceros debidos a la izquierda, aunque en todo caso se aplicaría one hot encoding así que no afectaría no añadir los ceros y aún así usar la columna\n",
    "* ¿convertir a entero *bedrooms* y *beds*?\n"
   ]
  },
  {
   "cell_type": "markdown",
   "metadata": {},
   "source": [
    "primero: tratamiento de nulos\n",
    "\n",
    "tramiento de duplicados\n",
    "\n",
    "sacar un histograma\n",
    "\n",
    "buscar relaciones, matriz de correlación\n",
    "\n",
    "relaciones entre columnas\n",
    "\n",
    "sacar gráficos"
   ]
  }
 ],
 "metadata": {
  "kernelspec": {
   "display_name": "proyecto",
   "language": "python",
   "name": "python3"
  },
  "language_info": {
   "codemirror_mode": {
    "name": "ipython",
    "version": 3
   },
   "file_extension": ".py",
   "mimetype": "text/x-python",
   "name": "python",
   "nbconvert_exporter": "python",
   "pygments_lexer": "ipython3",
   "version": "3.10.14"
  }
 },
 "nbformat": 4,
 "nbformat_minor": 2
}
